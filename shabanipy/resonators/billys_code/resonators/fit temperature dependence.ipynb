{
 "cells": [
  {
   "cell_type": "code",
   "execution_count": 1,
   "metadata": {},
   "outputs": [],
   "source": [
    "import sys\n",
    "sys.path.append('/Users/billystrickland/Documents/code/resonators')\n",
    "\n",
    "\n",
    "root = '/Users/billystrickland/Documents/code/resonators/data/'\n",
    "import matplotlib.pyplot as plt\n",
    "import numpy as np\n",
    "import utils.resonator_functions as rf\n",
    "from shabanipy.jy_mpl_settings.colors import line_colors\n",
    "from shabanipy.jy_mpl_settings.settings import jy_mpl_rc\n",
    "\n",
    "plt.style.use(jy_mpl_rc)\n",
    "\n",
    "from scipy.optimize import curve_fit\n",
    "\n",
    "import numpy as np\n",
    "from scipy.special import kn, iv\n",
    "\n",
    "kb = 8.617e-5         # Boltzmanns constant in units eV/Kelvin\n",
    "h = 4.136e-15         # Plancks constant in units of eV s\n",
    "    \n",
    "def sigma1(T, d, f):\n",
    "    return (4* d/(h * f)*np.exp(-d/kb/T)*np.sinh(h*f/2/kb/T))*kn(0,h*f/2/kb/T)\n",
    "\n",
    "def sigma2(T, d, f):\n",
    "    return (np.pi*d/(h*f)*(1-np.sqrt(2*np.pi*kb*T/d)*np.exp(-d/(kb*T))-2*np.exp(-d/(kb*T))*np.exp(-h*f/(2*kb*T))*iv(0, h*f/(2*kb*T))))\n",
    "\n",
    "def phi(T, d, f):\n",
    "    return np.arctan(sigma2(T, d, f)/sigma1(T, d, f))\n",
    "\n",
    "def func_deltafoverf(T, a, d, f):\n",
    "    # a is the kinetic inductance fraction\n",
    "    return -a/2*(1-np.sin(phi(T, d, f))*np.sqrt((sigma1(T, d, f)**2+ sigma2(T, d, f)**2)/ ((sigma1(0.001, d, f)**2+ sigma2(0.001, d, f)**2))))"
   ]
  },
  {
   "cell_type": "code",
   "execution_count": 24,
   "metadata": {},
   "outputs": [
    {
     "name": "stdout",
     "output_type": "stream",
     "text": [
      "[0.05151681 0.00091555] [0.07567271 0.00014294]\n"
     ]
    },
    {
     "data": {
      "text/plain": [
       "(<Figure size 432x288 with 1 Axes>,\n",
       " <AxesSubplot:xlabel='$T$ (K)', ylabel='$\\\\delta f_r/f_r$ (ppm)'>)"
      ]
     },
     "execution_count": 24,
     "metadata": {},
     "output_type": "execute_result"
    },
    {
     "data": {
      "image/png": "[encoded data removed]",
      "text/plain": [
       "<Figure size 432x288 with 1 Axes>"
      ]
     },
     "metadata": {
      "needs_background": "light"
     },
     "output_type": "display_data"
    }
   ],
   "source": [
    "\n",
    "\n",
    "\n",
    "sample = 'InP-Nb_LO-7barresonators-v1_KDBHE01'\n",
    "# file_num = '155res_i19_vg0V'\n",
    "# res_index = \n",
    "file_num = '0050'\n",
    "traces = []\n",
    "FILES = [[f'{root}{sample}/results/{file_num}.csv']]\n",
    "def make_combined_plot_freq(sample, FILES, traces = [''], print_results = 'True'):\n",
    "#     y_label=r'$\\delta f_r/f_r (\\%)$'\n",
    "    y_label=r'$\\delta f_r/f_r$ (ppm)'    \n",
    "    \n",
    "    \n",
    "    fig, ax = rf.make_plot_pre('$T$ (K)', y_label, xscale = 'linear', figsize = (6,4))\n",
    "    for i, f in enumerate(FILES):\n",
    "        results = rf.proc_csv(f)\n",
    "        photon, power, qi_diacorr, qi_diacorr_err, qc, qc_err, ql, ql_err, freq, freq_err = rf.get_results(results, 10000000000) \n",
    "        power, freq, freq_err = zip(*sorted(zip(power, freq, freq_err)))\n",
    "        \n",
    "        def func_deltafoverf(T, a, d):\n",
    "            f = freq[0]\n",
    "            # a is the kinetic inductance fraction\n",
    "            return -a/2*(1-np.sin(phi(T, d, f))*np.sqrt((sigma1(T, d, f)**2+ sigma2(T, d, f)**2)/ ((sigma1(0.001, d, f)**2+ sigma2(0.001, d, f)**2))))\n",
    "        popt, pcov = curve_fit(func_deltafoverf, power,(np.array(freq)-(freq[0]))/(freq),\n",
    "                            p0 = [8.23802964e-03, 5.85049543e-05],\n",
    "#                             bounds = [[.99, .1e-3],[1, .21e-3]],\n",
    "                            maxfev = 1000000000\n",
    "                           )\n",
    "        perr = np.sqrt(np.diag(pcov))\n",
    "        if print_results:\n",
    "            print(popt, perr)\n",
    "        ax.errorbar(np.array(power),(np.array(freq)-(freq[0]))*1000000/(freq),\n",
    "                    linestyle = 'None',\n",
    "                    color=line_colors[i],\n",
    "                    marker = 'o', \n",
    "#                     label = f'Nb, $f$ = {freq[0]*1e-9:.2f} GHz, '+r'$\\alpha$ = '+f'{100*popt[0]:.2f}%, $\\Delta$ = {popt[1]*1e6:.2f} µeV'\n",
    "                    label = f'Nb, '+r'$\\alpha$ = '+f'{100*popt[0]:.2f}%, $\\Delta$ = {popt[1]*1e6:.2f} µeV'\n",
    "#                     label = f'{traces[i]}, $f$ = {popt[2]*1e-9:.2f} GHz, '+r'$\\alpha$ = '+f'{100*popt[0]:.2f}%, $\\Delta$ = {popt[1]*1e6:.2f} µeV'\n",
    "                   )\n",
    "        x = np.linspace(power[0], power[-1], 100)\n",
    "        plt.plot(x, (func_deltafoverf(x, *popt))*1000000, color = line_colors[i], \n",
    "                )\n",
    "    plt.legend(fontsize = 14)\n",
    "    fig.tight_layout()\n",
    "    plt.savefig(f'{root}/{sample}/results/temp_fs{file_num}.pdf', format = 'pdf')\n",
    "    return fig, ax\n",
    "\n",
    "make_combined_plot_freq(sample,FILES, traces=traces, print_results = True)"
   ]
  },
  {
   "cell_type": "code",
   "execution_count": 20,
   "metadata": {},
   "outputs": [
    {
     "name": "stderr",
     "output_type": "stream",
     "text": [
      "<ipython-input-20-56b8b9b50e65>:4: RuntimeWarning: overflow encountered in exp\n",
      "  Qqp = Q0 * np.exp(delta/kb/T)/(np.sinh(h*f/2/kb/T)*kn(0,h*f/2/kb/T))\n",
      "<ipython-input-20-56b8b9b50e65>:4: RuntimeWarning: overflow encountered in sinh\n",
      "  Qqp = Q0 * np.exp(delta/kb/T)/(np.sinh(h*f/2/kb/T)*kn(0,h*f/2/kb/T))\n",
      "<ipython-input-20-56b8b9b50e65>:4: RuntimeWarning: invalid value encountered in multiply\n",
      "  Qqp = Q0 * np.exp(delta/kb/T)/(np.sinh(h*f/2/kb/T)*kn(0,h*f/2/kb/T))\n",
      "<ipython-input-20-56b8b9b50e65>:4: RuntimeWarning: divide by zero encountered in true_divide\n",
      "  Qqp = Q0 * np.exp(delta/kb/T)/(np.sinh(h*f/2/kb/T)*kn(0,h*f/2/kb/T))\n"
     ]
    },
    {
     "data": {
      "text/plain": [
       "(<Figure size 432x288 with 1 Axes>,\n",
       " <AxesSubplot:xlabel='$T$ (K)', ylabel='$Q_\\\\mathrm{int}$'>)"
      ]
     },
     "execution_count": 20,
     "metadata": {},
     "output_type": "execute_result"
    },
    {
     "data": {
      "image/png": "[encoded data removed]",
      "text/plain": [
       "<Figure size 432x288 with 1 Axes>"
      ]
     },
     "metadata": {
      "needs_background": "light"
     },
     "output_type": "display_data"
    }
   ],
   "source": [
    "def func_qint_qp(T, delta, Qi, Q0, f):\n",
    "    kb = 8.617e-5\n",
    "    h = 4.136e-15\n",
    "    Qqp = Q0 * np.exp(delta/kb/T)/(np.sinh(h*f/2/kb/T)*kn(0,h*f/2/kb/T))\n",
    "    Qint = 1/(1/Qi +1/(Qqp))\n",
    "    return Qint\n",
    "\n",
    "def make_combined_plot_qi(FILES, mark = True):\n",
    "    y_label=r'$Q_\\mathrm{int}$'  \n",
    "    fig, ax = rf.make_plot_pre('$T$ (K)', y_label, xscale = 'linear', figsize = (6,4))\n",
    "    for i, f in enumerate(FILES):\n",
    "        results = rf.proc_csv(f)\n",
    "        photon, power, qi_diacorr, qi_diacorr_err, qc, qc_err, ql, ql_err, freq, freq_err = rf.get_results(results, 3000000) \n",
    "        power, qi_diacorr, qi_diacorr_err = zip(*sorted(zip(power, qi_diacorr, qi_diacorr_err)))\n",
    "        bounds = ([150e-6, 0,  0, freq[0]-.0000001], [250e-6, np.inf, np.inf, freq[0]+.00001])\n",
    "        popt, pcov = curve_fit(func_qint_qp, power,qi_diacorr,\n",
    "                            p0 = [210e-6, qi_diacorr[0], 1, freq[0]],\n",
    "#                             bounds=bounds,\n",
    "                            maxfev = 1000000000\n",
    "                           )\n",
    "        if mark:\n",
    "            markers = ['o' * len(marker_list) for marker_list in FILES]\n",
    "        perr = np.sqrt(np.diag(pcov))\n",
    "        ax.errorbar(np.array(power[0:-2]),qi_diacorr[0:-2],\n",
    "                    linestyle = 'None',\n",
    "                    color=line_colors[i],\n",
    "                    marker = 'o', \n",
    "                    label = 'Nb, $f$ = '+str(round(freq[0]*1e-9,2))+r' GHz'\n",
    "                    \n",
    "#                     label = r'$\\alpha$ = '+str(round(popt[0]*100, 2))\n",
    "                   )\n",
    "\n",
    "\n",
    "        x = np.linspace(power[0], power[-1], 100)\n",
    "        plt.plot(x, (func_qint_qp(x, *popt)), color = line_colors[i], \n",
    "                )\n",
    "    plt.legend()\n",
    "    fig.tight_layout()\n",
    "    plt.savefig(f'{root}/{sample}/results/temp_qis_{file_num}.pdf', format = 'pdf')\n",
    "\n",
    "    return fig, ax\n",
    "\n",
    "make_combined_plot_qi(FILES)"
   ]
  },
  {
   "cell_type": "code",
   "execution_count": 10,
   "metadata": {},
   "outputs": [
    {
     "name": "stdout",
     "output_type": "stream",
     "text": [
      "3481.2449698086834\n",
      "[2.09364539e-04 3.45012389e+03 2.30244824e+00 8.30451354e+09]\n",
      "12016.56573416812\n",
      "[2.10371004e-04 1.17242601e+04 1.34506475e+01 7.80776932e+09]\n",
      "23681.33234587186\n",
      "[2.02109604e-04 2.37351179e+04 5.19339330e+01 8.01635480e+09]\n",
      "31257.508007397453\n",
      "[2.05640517e-04 3.00638222e+04 5.86417626e+01 7.97160031e+09]\n"
     ]
    },
    {
     "data": {
      "text/plain": [
       "(<Figure size 576x288 with 1 Axes>,\n",
       " <AxesSubplot:xlabel='$T$ (K)', ylabel='$Q_\\\\mathrm{int}$'>)"
      ]
     },
     "execution_count": 10,
     "metadata": {},
     "output_type": "execute_result"
    },
    {
     "data": {
      "image/png": "[encoded data removed]",
      "text/plain": [
       "<Figure size 576x288 with 1 Axes>"
      ]
     },
     "metadata": {
      "needs_background": "light"
     },
     "output_type": "display_data"
    }
   ],
   "source": [
    "FILES = [[root+'JS626-4SQ-v2-7-BSBHE-CD1/results/1131_tone=0_magnet=0_center=0.CSV'], [root+'JS681-6CLQ-004-BSLB-001/results/0204.csv'], [root+'JS681-6CLQ-003-BSLB-002/results/0062.csv'], [root+'JS681-6CLQ-005-BSLB-001/results/0124.csv']]\n",
    "def func_qint_qp(T, delta, Qi, Q0, f):\n",
    "    kb = 8.617e-5\n",
    "    h = 4.136e-15\n",
    "    Qqp = Q0 * np.exp(delta/kb/T)/(np.sinh(h*f/2/kb/T)*kn(0,h*f/2/kb/T))\n",
    "    Qint = 1/(1/Qi +1/(Qqp))\n",
    "    return Qint\n",
    "\n",
    "def make_combined_plot_qi(FILES):\n",
    "    y_label=r'$Q_\\mathrm{int}$'  \n",
    "    markers = ['o', 'v', 's', '^']\n",
    "    traces = ['30 nm', '30+30 nm', '30+100 nm', '30+200 nm']\n",
    "    fig, ax = rf.make_plot_pre('$T$ (K)', y_label, xscale = 'linear', figsize = (8,4))\n",
    "    for i, f in enumerate(FILES):\n",
    "        results = rf.proc_csv(f)\n",
    "        photon, power, qi_diacorr, qi_diacorr_err, qc, qc_err, ql, ql_err, freq, freq_err = rf.get_results(results, 1000000) \n",
    "        print(qi_diacorr[0])\n",
    "        bounds = ([200e-6, 0,  0, freq[0]-.0000001], [220e-6, np.inf, np.inf, freq[0]+.00001])\n",
    "        if i ==1:\n",
    "            bounds = ([210e-6, 0,  0, freq[0]-.0000001], [220e-6, np.inf, np.inf, freq[0]+.00001])\n",
    "        if i>0:\n",
    "            power, qi_diacorr = power[0:-5], qi_diacorr[0:-5]\n",
    "        popt, pcov = curve_fit(func_qint_qp, power,qi_diacorr,\n",
    "                            p0 = [210e-6, qi_diacorr[0], 1, freq[0]],\n",
    "                            bounds=bounds,\n",
    "                            maxfev = 1000000000\n",
    "                           )\n",
    "        perr = np.sqrt(np.diag(pcov))\n",
    "        print(popt)\n",
    "        ax.errorbar(np.array(power),qi_diacorr,\n",
    "                    linestyle = 'None',\n",
    "                    color=line_colors[i],\n",
    "                    marker = markers[i], \n",
    "#                     label = traces[i]+r', $\\alpha$ = '+str(round(popt[0], 2))\n",
    "                   )\n",
    "\n",
    "\n",
    "        x = np.linspace(power[0], power[-1], 100)\n",
    "        plt.plot(x, (func_qint_qp(x, *popt)), color = line_colors[i], \n",
    "#                  label=r'Fit, $\\alpha$ = '+str(round(popt[0]*100, 2))+'%'\n",
    "                )\n",
    "#     plt.legend()\n",
    "    fig.tight_layout()\n",
    "    plt.savefig('qi_qp.eps', format = 'eps')\n",
    "    return fig, ax\n",
    "\n",
    "make_combined_plot_qi(FILES)"
   ]
  },
  {
   "cell_type": "code",
   "execution_count": 5,
   "metadata": {},
   "outputs": [
    {
     "name": "stdout",
     "output_type": "stream",
     "text": [
      "7971600123.966613\n"
     ]
    },
    {
     "ename": "TypeError",
     "evalue": "from_bounds() missing 4 required positional arguments: 'x0', 'y0', 'width', and 'height'",
     "output_type": "error",
     "traceback": [
      "\u001b[0;31m---------------------------------------------------------------------------\u001b[0m",
      "\u001b[0;31mTypeError\u001b[0m                                 Traceback (most recent call last)",
      "\u001b[0;32m<ipython-input-5-d24fe8c53bfa>\u001b[0m in \u001b[0;36m<module>\u001b[0;34m\u001b[0m\n\u001b[1;32m     42\u001b[0m     \u001b[0;32melif\u001b[0m \u001b[0mi\u001b[0m \u001b[0;34m==\u001b[0m\u001b[0;36m3\u001b[0m\u001b[0;34m:\u001b[0m\u001b[0;34m\u001b[0m\u001b[0;34m\u001b[0m\u001b[0m\n\u001b[1;32m     43\u001b[0m         \u001b[0mplt\u001b[0m\u001b[0;34m.\u001b[0m\u001b[0mplot\u001b[0m\u001b[0;34m(\u001b[0m\u001b[0mnp\u001b[0m\u001b[0;34m.\u001b[0m\u001b[0marray\u001b[0m\u001b[0;34m(\u001b[0m\u001b[0mpower\u001b[0m\u001b[0;34m)\u001b[0m\u001b[0;34m,\u001b[0m \u001b[0;34m(\u001b[0m\u001b[0mfunc_deltafoverf\u001b[0m\u001b[0;34m(\u001b[0m\u001b[0mnp\u001b[0m\u001b[0;34m.\u001b[0m\u001b[0marray\u001b[0m\u001b[0;34m(\u001b[0m\u001b[0mpower\u001b[0m\u001b[0;34m)\u001b[0m\u001b[0;34m,\u001b[0m \u001b[0;36m.07\u001b[0m\u001b[0;34m,\u001b[0m \u001b[0;36m210e-6\u001b[0m\u001b[0;34m,\u001b[0m \u001b[0mfreq\u001b[0m\u001b[0;34m[\u001b[0m\u001b[0;36m0\u001b[0m\u001b[0;34m]\u001b[0m\u001b[0;34m)\u001b[0m\u001b[0;34m)\u001b[0m\u001b[0;34m*\u001b[0m\u001b[0;36m100\u001b[0m\u001b[0;34m,\u001b[0m \u001b[0mcolor\u001b[0m \u001b[0;34m=\u001b[0m \u001b[0mline_colors\u001b[0m\u001b[0;34m[\u001b[0m\u001b[0mi\u001b[0m\u001b[0;34m+\u001b[0m\u001b[0;36m1\u001b[0m\u001b[0;34m]\u001b[0m\u001b[0;34m)\u001b[0m\u001b[0;34m\u001b[0m\u001b[0;34m\u001b[0m\u001b[0m\n\u001b[0;32m---> 44\u001b[0;31m     \u001b[0mplt\u001b[0m\u001b[0;34m.\u001b[0m\u001b[0mlegend\u001b[0m\u001b[0;34m(\u001b[0m\u001b[0mbbox_to_anchor\u001b[0m \u001b[0;34m=\u001b[0m\u001b[0;34m''\u001b[0m\u001b[0;34m)\u001b[0m\u001b[0;34m\u001b[0m\u001b[0;34m\u001b[0m\u001b[0m\n\u001b[0m\u001b[1;32m     45\u001b[0m \u001b[0mfig\u001b[0m\u001b[0;34m.\u001b[0m\u001b[0mtight_layout\u001b[0m\u001b[0;34m(\u001b[0m\u001b[0;34m)\u001b[0m\u001b[0;34m\u001b[0m\u001b[0;34m\u001b[0m\u001b[0m\n\u001b[1;32m     46\u001b[0m \u001b[0;34m\u001b[0m\u001b[0m\n",
      "\u001b[0;32m/opt/anaconda3/lib/python3.8/site-packages/matplotlib/pyplot.py\u001b[0m in \u001b[0;36mlegend\u001b[0;34m(*args, **kwargs)\u001b[0m\n\u001b[1;32m   2736\u001b[0m \u001b[0;34m@\u001b[0m\u001b[0m_copy_docstring_and_deprecators\u001b[0m\u001b[0;34m(\u001b[0m\u001b[0mAxes\u001b[0m\u001b[0;34m.\u001b[0m\u001b[0mlegend\u001b[0m\u001b[0;34m)\u001b[0m\u001b[0;34m\u001b[0m\u001b[0;34m\u001b[0m\u001b[0m\n\u001b[1;32m   2737\u001b[0m \u001b[0;32mdef\u001b[0m \u001b[0mlegend\u001b[0m\u001b[0;34m(\u001b[0m\u001b[0;34m*\u001b[0m\u001b[0margs\u001b[0m\u001b[0;34m,\u001b[0m \u001b[0;34m**\u001b[0m\u001b[0mkwargs\u001b[0m\u001b[0;34m)\u001b[0m\u001b[0;34m:\u001b[0m\u001b[0;34m\u001b[0m\u001b[0;34m\u001b[0m\u001b[0m\n\u001b[0;32m-> 2738\u001b[0;31m     \u001b[0;32mreturn\u001b[0m \u001b[0mgca\u001b[0m\u001b[0;34m(\u001b[0m\u001b[0;34m)\u001b[0m\u001b[0;34m.\u001b[0m\u001b[0mlegend\u001b[0m\u001b[0;34m(\u001b[0m\u001b[0;34m*\u001b[0m\u001b[0margs\u001b[0m\u001b[0;34m,\u001b[0m \u001b[0;34m**\u001b[0m\u001b[0mkwargs\u001b[0m\u001b[0;34m)\u001b[0m\u001b[0;34m\u001b[0m\u001b[0;34m\u001b[0m\u001b[0m\n\u001b[0m\u001b[1;32m   2739\u001b[0m \u001b[0;34m\u001b[0m\u001b[0m\n\u001b[1;32m   2740\u001b[0m \u001b[0;34m\u001b[0m\u001b[0m\n",
      "\u001b[0;32m/opt/anaconda3/lib/python3.8/site-packages/matplotlib/axes/_axes.py\u001b[0m in \u001b[0;36mlegend\u001b[0;34m(self, *args, **kwargs)\u001b[0m\n\u001b[1;32m    415\u001b[0m         \u001b[0;32mif\u001b[0m \u001b[0mlen\u001b[0m\u001b[0;34m(\u001b[0m\u001b[0mextra_args\u001b[0m\u001b[0;34m)\u001b[0m\u001b[0;34m:\u001b[0m\u001b[0;34m\u001b[0m\u001b[0;34m\u001b[0m\u001b[0m\n\u001b[1;32m    416\u001b[0m             \u001b[0;32mraise\u001b[0m \u001b[0mTypeError\u001b[0m\u001b[0;34m(\u001b[0m\u001b[0;34m'legend only accepts two non-keyword arguments'\u001b[0m\u001b[0;34m)\u001b[0m\u001b[0;34m\u001b[0m\u001b[0;34m\u001b[0m\u001b[0m\n\u001b[0;32m--> 417\u001b[0;31m         \u001b[0mself\u001b[0m\u001b[0;34m.\u001b[0m\u001b[0mlegend_\u001b[0m \u001b[0;34m=\u001b[0m \u001b[0mmlegend\u001b[0m\u001b[0;34m.\u001b[0m\u001b[0mLegend\u001b[0m\u001b[0;34m(\u001b[0m\u001b[0mself\u001b[0m\u001b[0;34m,\u001b[0m \u001b[0mhandles\u001b[0m\u001b[0;34m,\u001b[0m \u001b[0mlabels\u001b[0m\u001b[0;34m,\u001b[0m \u001b[0;34m**\u001b[0m\u001b[0mkwargs\u001b[0m\u001b[0;34m)\u001b[0m\u001b[0;34m\u001b[0m\u001b[0;34m\u001b[0m\u001b[0m\n\u001b[0m\u001b[1;32m    418\u001b[0m         \u001b[0mself\u001b[0m\u001b[0;34m.\u001b[0m\u001b[0mlegend_\u001b[0m\u001b[0;34m.\u001b[0m\u001b[0m_remove_method\u001b[0m \u001b[0;34m=\u001b[0m \u001b[0mself\u001b[0m\u001b[0;34m.\u001b[0m\u001b[0m_remove_legend\u001b[0m\u001b[0;34m\u001b[0m\u001b[0;34m\u001b[0m\u001b[0m\n\u001b[1;32m    419\u001b[0m         \u001b[0;32mreturn\u001b[0m \u001b[0mself\u001b[0m\u001b[0;34m.\u001b[0m\u001b[0mlegend_\u001b[0m\u001b[0;34m\u001b[0m\u001b[0;34m\u001b[0m\u001b[0m\n",
      "\u001b[0;32m/opt/anaconda3/lib/python3.8/site-packages/matplotlib/legend.py\u001b[0m in \u001b[0;36m__init__\u001b[0;34m(self, parent, handles, labels, loc, numpoints, markerscale, markerfirst, scatterpoints, scatteryoffsets, prop, fontsize, labelcolor, borderpad, labelspacing, handlelength, handleheight, handletextpad, borderaxespad, columnspacing, ncol, mode, fancybox, shadow, title, title_fontsize, framealpha, edgecolor, facecolor, bbox_to_anchor, bbox_transform, frameon, handler_map)\u001b[0m\n\u001b[1;32m    464\u001b[0m \u001b[0;34m\u001b[0m\u001b[0m\n\u001b[1;32m    465\u001b[0m         \u001b[0mself\u001b[0m\u001b[0;34m.\u001b[0m\u001b[0m_mode\u001b[0m \u001b[0;34m=\u001b[0m \u001b[0mmode\u001b[0m\u001b[0;34m\u001b[0m\u001b[0;34m\u001b[0m\u001b[0m\n\u001b[0;32m--> 466\u001b[0;31m         \u001b[0mself\u001b[0m\u001b[0;34m.\u001b[0m\u001b[0mset_bbox_to_anchor\u001b[0m\u001b[0;34m(\u001b[0m\u001b[0mbbox_to_anchor\u001b[0m\u001b[0;34m,\u001b[0m \u001b[0mbbox_transform\u001b[0m\u001b[0;34m)\u001b[0m\u001b[0;34m\u001b[0m\u001b[0;34m\u001b[0m\u001b[0m\n\u001b[0m\u001b[1;32m    467\u001b[0m \u001b[0;34m\u001b[0m\u001b[0m\n\u001b[1;32m    468\u001b[0m         \u001b[0;31m# We use FancyBboxPatch to draw a legend frame. The location\u001b[0m\u001b[0;34m\u001b[0m\u001b[0;34m\u001b[0m\u001b[0;34m\u001b[0m\u001b[0m\n",
      "\u001b[0;32m/opt/anaconda3/lib/python3.8/site-packages/matplotlib/legend.py\u001b[0m in \u001b[0;36mset_bbox_to_anchor\u001b[0;34m(self, bbox, transform)\u001b[0m\n\u001b[1;32m    973\u001b[0m                 \u001b[0mbbox\u001b[0m \u001b[0;34m=\u001b[0m \u001b[0;34m[\u001b[0m\u001b[0mbbox\u001b[0m\u001b[0;34m[\u001b[0m\u001b[0;36m0\u001b[0m\u001b[0;34m]\u001b[0m\u001b[0;34m,\u001b[0m \u001b[0mbbox\u001b[0m\u001b[0;34m[\u001b[0m\u001b[0;36m1\u001b[0m\u001b[0;34m]\u001b[0m\u001b[0;34m,\u001b[0m \u001b[0;36m0\u001b[0m\u001b[0;34m,\u001b[0m \u001b[0;36m0\u001b[0m\u001b[0;34m]\u001b[0m\u001b[0;34m\u001b[0m\u001b[0;34m\u001b[0m\u001b[0m\n\u001b[1;32m    974\u001b[0m \u001b[0;34m\u001b[0m\u001b[0m\n\u001b[0;32m--> 975\u001b[0;31m             \u001b[0mself\u001b[0m\u001b[0;34m.\u001b[0m\u001b[0m_bbox_to_anchor\u001b[0m \u001b[0;34m=\u001b[0m \u001b[0mBbox\u001b[0m\u001b[0;34m.\u001b[0m\u001b[0mfrom_bounds\u001b[0m\u001b[0;34m(\u001b[0m\u001b[0;34m*\u001b[0m\u001b[0mbbox\u001b[0m\u001b[0;34m)\u001b[0m\u001b[0;34m\u001b[0m\u001b[0;34m\u001b[0m\u001b[0m\n\u001b[0m\u001b[1;32m    976\u001b[0m \u001b[0;34m\u001b[0m\u001b[0m\n\u001b[1;32m    977\u001b[0m         \u001b[0;32mif\u001b[0m \u001b[0mtransform\u001b[0m \u001b[0;32mis\u001b[0m \u001b[0;32mNone\u001b[0m\u001b[0;34m:\u001b[0m\u001b[0;34m\u001b[0m\u001b[0;34m\u001b[0m\u001b[0m\n",
      "\u001b[0;31mTypeError\u001b[0m: from_bounds() missing 4 required positional arguments: 'x0', 'y0', 'width', and 'height'"
     ]
    },
    {
     "data": {
      "image/png": "[encoded data removed]",
      "text/plain": [
       "<Figure size 360x288 with 1 Axes>"
      ]
     },
     "metadata": {
      "needs_background": "light"
     },
     "output_type": "display_data"
    }
   ],
   "source": [
    "import sys\n",
    "sys.path.append('/Users/billystrickland/Documents/code/resonators')\n",
    "\n",
    "root = '/Users/billystrickland/Documents/code/resonators/data/'\n",
    "sample = 'JS681-6CLQ-004-BSLB-001'\n",
    "\n",
    "\n",
    "traces = [\n",
    "         r'30+200 nm, $\\alpha$ = 1%',\n",
    "        r'30+100 nm, $\\alpha$ = 1%',\n",
    "         r'30+30 nm, $\\alpha$ = 4%',\n",
    "        r'30+0 nm, $\\alpha$ = 7%'\n",
    "    ]\n",
    "\n",
    "\n",
    "file = '/Users/billystrickland/Documents/code/resonators/data/'+sample+'/results/'\n",
    "\n",
    "FILES = [[root+'JS681-6CLQ-005-BSLB-001/results/012.csv'],\n",
    "         [root+'JS681-6CLQ-003-BSLB-002/results/0060.csv'],\n",
    "         [root+'JS681-6CLQ-004-BSLB-001/results/0203.csv'], \n",
    "         [root+'JS626-4SQ-v2-7-BSBHE-CD1/results/1131_tone=0_magnet=0_center=0.CSV']\n",
    "        ]\n",
    "           \n",
    "y_label=r'$\\Delta f_r/f_r (\\%)$'    \n",
    "markers = ['o', 'v', 's', '^']\n",
    "fig, ax = rf.make_plot_pre('$T$ (K)', y_label, xscale = 'linear', figsize = (5,4))\n",
    "for i in range(len(FILES)):\n",
    "    results = rf.proc_csv(FILES[i])\n",
    "\n",
    "    photon, power, qi_diacorr, qi_diacorr_err, qc, qc_err, ql, ql_err, freq, freq_err = rf.get_results(results, 1000000) \n",
    "    print(freq[0])\n",
    "    ax.errorbar(np.array(power),(np.array(freq)-(freq[0]))*100/(freq),\n",
    "                linestyle = 'None',\n",
    "                color=line_colors[i+1],\n",
    "                marker = markers[i], label = traces[i])\n",
    "    if i ==0:\n",
    "        plt.plot(np.array(power), (func_deltafoverf(np.array(power), .012, 210e-6, freq[0]))*100, color = line_colors[i+1])\n",
    "    if i ==1:\n",
    "        plt.plot(np.array(power), (func_deltafoverf(np.array(power), .011, 210e-6, freq[0]))*100, color = line_colors[i+1])\n",
    "    elif i ==2:\n",
    "        plt.plot(np.array(power), (func_deltafoverf(np.array(power), .04, 210e-6, freq[0]))*100, color = line_colors[i+1])\n",
    "    elif i ==3:\n",
    "        plt.plot(np.array(power), (func_deltafoverf(np.array(power), .07, 210e-6, freq[0]))*100, color = line_colors[i+1])\n",
    "    plt.legend(bbox_to_anchor ='')\n",
    "fig.tight_layout()\n",
    "\n",
    "rf.make_plot_post(fig, root+'tempdep_comp')"
   ]
  },
  {
   "cell_type": "code",
   "execution_count": null,
   "metadata": {},
   "outputs": [],
   "source": [
    "f= [7971600123.966613, 7243375661.237532, 7412999676.667707, 8304513542.136144]\n",
    "L0 = [1.27103, 1.39881, 1.3668, 1.2200]\n",
    "l = [3.558810546, 3.916601308, 3.826981765, 3.416144058]\n",
    "sq = [101.68, 111.903, 109.342, 97.6041]\n",
    "t = [230, 130, 60, 30]\n",
    "a = [.01, .01, .04, .07]\n",
    "lk= [a[i]*L0[i] for i in range(len(L0))]\n",
    "lksq = [lk[i]/sq[i] for i in range(len(L0))]\n",
    "print('thickness (nm) = ', np.array(t))\n",
    "print('kinetic inductance (pH/sq) = ', np.array(lksq)*1e3)\n"
   ]
  },
  {
   "cell_type": "code",
   "execution_count": null,
   "metadata": {},
   "outputs": [],
   "source": [
    "a = [0.01316482215726887, 0.04660912795894484, 0.013274198928785685, 0.0759970502]\n",
    "t = [100, 60, 200, 30]"
   ]
  },
  {
   "cell_type": "code",
   "execution_count": null,
   "metadata": {},
   "outputs": [],
   "source": [
    "fig, ax = plt.subplots()\n",
    "plt.plot(t, np.array(a)*1e2, linestyle='None', marker = 'o')\n",
    "x = np.linspace(30, 230, 100 )\n",
    "\n",
    "plt.ylabel(r'$\\alpha$ (%)')\n",
    "ax2 = ax.twinx()\n",
    "ax2.set_ylabel('$L_k$ (pH/sq.)')\n",
    "plt.xlabel('Al thickness (nm)')\n",
    "print('kinetic inductance for 10 nm Al', .03/10*1e3, 'pH/sq')\n",
    "\n",
    "ax.set_ylim(.5, 8.5)\n",
    "ax2.set_ylim(.0083245, 1.41517)\n",
    "ax.set_xlabel('Al thickness (nm)')\n",
    "fig.tight_layout()\n",
    "plt.savefig('alpha.eps', format = 'eps')"
   ]
  },
  {
   "cell_type": "code",
   "execution_count": null,
   "metadata": {},
   "outputs": [],
   "source": [
    "import sys\n",
    "sys.path.append('/Users/billystrickland/Documents/code/resonators')\n",
    "\n",
    "root = '/Users/billystrickland/Documents/code/resonators/data/'\n",
    "sample = 'JS627-7bareres-v1.1-01_BHE01_'\n",
    "\n",
    "FILES = [[root+sample+'/results/0250.csv'], \n",
    "#         [root+sample+'/results/0281.csv'],\n",
    "#         [root+sample+'/results/0282.csv'],\n",
    "#         [root+sample+'/results/0283.csv'],\n",
    "        ]\n",
    "#          [root+'JS681-6CLQ-003-BSLB-002/results/0060.csv'],\n",
    "#          [root+'JS681-6CLQ-004-BSLB-001/results/0203.csv'], \n",
    "#          [root+'JS626-4SQ-v2-7-BSBHE-CD1/results/1131_tone=0_magnet=0_center=0.CSV']\n",
    "           \n",
    "y_label=r'$\\Delta f_r/f_r (\\%)$'    \n",
    "markers = ['o', 'v', 's', '^']\n",
    "fig, ax = rf.make_plot_pre('$T$ (K)', y_label, xscale = 'linear', figsize = (5,4))\n",
    "for i, x in enumerate(FILES):\n",
    "    print(i)\n",
    "    results = rf.proc_csv(x)\n",
    "    photon, power, qi_diacorr, qi_diacorr_err, qc, qc_err, ql, ql_err, freq, freq_err = rf.get_results(results, 1000000) \n",
    "    if i == 0:\n",
    "        freq, power, qi_diacorr, qi_diacorr_err = freq[0:-8], power[0:-8], qi_diacorr[0:-8], qi_diacorr_err[0:-8]\n",
    "    alpha = .18\n",
    "    traces = [\n",
    "             r'JS627 R0',\n",
    "             r'JS624 R1',\n",
    "             r'JS624 R2',\n",
    "             r'JS624 R3',\n",
    "        ]\n",
    "    ax.errorbar(np.array(power),(np.array(freq)-(freq[0]))*100/(freq),\n",
    "                linestyle = 'None',\n",
    "                color=line_colors[i],\n",
    "                marker = markers[i], label = traces[i])\n",
    "    \n",
    "    x = np.linspace(power[0], power[-1], 100)\n",
    "plt.plot(x, (func_deltafoverf(x, alpha, 210e-6, freq[0]))*100, color = line_colors[i+1], label=r'Fit, $\\alpha$ = '+str(int(100*alpha))+'%')\n",
    "plt.legend()\n",
    "\n",
    "rf.make_plot_post(fig, root+sample+'/results/tempdep')"
   ]
  },
  {
   "cell_type": "code",
   "execution_count": null,
   "metadata": {},
   "outputs": [],
   "source": [
    "import numpy as np\n",
    "import matplotlib.pyplot as plt\n",
    "\n",
    "# Your data: 100 nm\n",
    "x_data = np.array([1/7.244, 1/7.605, 1/8.017])\n",
    "y_data = np.array([1/4.36e4, 1/3.99e4, 1/3.61e4])\n",
    "\n",
    "def fit_qvsf(x_data, y_data):\n",
    "    # Fit a line (first-degree polynomial)\n",
    "    coefficients = np.polyfit(x_data, y_data, 1, full=False)\n",
    "\n",
    "    # Create a polynomial function based on the coefficients\n",
    "    poly_function = np.poly1d(coefficients)\n",
    "\n",
    "    # Generate points for the fitted line\n",
    "    x_fit = np.linspace(min(x_data), max(x_data), 100)\n",
    "    y_fit = poly_function(x_fit)\n",
    "\n",
    "    # Plot the data points and the fitted line\n",
    "    plt.scatter(x_data, y_data, label='Data')\n",
    "    plt.plot(x_fit, y_fit, label='Fitted Line', color='red')\n",
    "\n",
    "    # Add labels and legend\n",
    "    plt.xlabel('1/frequency (1/GHz)')\n",
    "    plt.ylabel('1/Q')\n",
    "    plt.legend()\n",
    "\n",
    "    # Show the plot\n",
    "    plt.show()\n",
    "\n",
    "    # Print the coefficients of the fitted line (slope and intercept)\n",
    "    print(\"Fitted Line Coefficients:\", coefficients)\n",
    "    return coefficients\n",
    "\n",
    "coeff = fit_qvsf(x_data, y_data)\n",
    "print(coeff[0])"
   ]
  },
  {
   "cell_type": "code",
   "execution_count": null,
   "metadata": {},
   "outputs": [],
   "source": [
    "# 200 nm \n",
    "x_data = np.array([1/(2*np.pi*6.278), 1/(2*np.pi*6.551), 1/(2*np.pi*7.215), 1/(2*np.pi*7.587), 1/(2*np.pi*7.972)])\n",
    "y_data = np.array([1/3.15e4, 1/3.48e4, 1/2.71e4, 1/4e4, 1/3.56e4])\n",
    "coeff = fit_qvsf(x_data, y_data)\n",
    "print(coeff[0])"
   ]
  },
  {
   "cell_type": "code",
   "execution_count": null,
   "metadata": {},
   "outputs": [],
   "source": [
    "# \n",
    "x_data = np.array([1/6.14, 1/6.396, 1/7.061, 1/7.413, 1/7.808])\n",
    "y_data = np.array([1/7.52e3, 1/8.37e3, 1/8.39e3, 1/9.39e3, 1/8.30e3])\n",
    "fit_qvsf(x_data, y_data)"
   ]
  },
  {
   "cell_type": "code",
   "execution_count": null,
   "metadata": {},
   "outputs": [],
   "source": [
    "x = np.linspace(1, 10, 1000)\n",
    "y = 1/(1/100 + .01*1/x)\n",
    "plt.plot(x, 1/y)"
   ]
  },
  {
   "cell_type": "code",
   "execution_count": null,
   "metadata": {},
   "outputs": [],
   "source": []
  },
  {
   "cell_type": "code",
   "execution_count": null,
   "metadata": {},
   "outputs": [],
   "source": []
  }
 ],
 "metadata": {
  "kernelspec": {
   "display_name": "Python 3",
   "language": "python",
   "name": "python3"
  },
  "language_info": {
   "codemirror_mode": {
    "name": "ipython",
    "version": 3
   },
   "file_extension": ".py",
   "mimetype": "text/x-python",
   "name": "python",
   "nbconvert_exporter": "python",
   "pygments_lexer": "ipython3",
   "version": "3.8.5"
  }
 },
 "nbformat": 4,
 "nbformat_minor": 4
}

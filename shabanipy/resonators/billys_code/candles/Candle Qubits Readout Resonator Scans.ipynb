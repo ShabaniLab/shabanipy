{
 "cells": [
  {
   "cell_type": "code",
   "execution_count": 2,
   "metadata": {},
   "outputs": [],
   "source": [
    "import sys\n",
    "sys.path.append('/Users/billystrickland/Documents/code/resonators')\n",
    "import matplotlib.pyplot as plt\n",
    "from shabanipy.labber import LabberData\n",
    "from shabanipy.resonators.notch_geometry import fit_complex\n",
    "import numpy as np\n",
    "import cmath \n",
    "import os\n",
    "from shabanipy.jy_mpl_settings.settings import jy_mpl_rc\n",
    "from shabanipy.jy_mpl_settings.colors import line_colors\n",
    "import utils.resonator_functions as rf\n",
    "import utils.qubit_functions as qf\n",
    "\n",
    "plt.style.use(jy_mpl_rc)"
   ]
  },
  {
   "cell_type": "code",
   "execution_count": 3,
   "metadata": {},
   "outputs": [],
   "source": [
    "savepath = '/Users/billystrickland/Documents/code/resonators/data/'\n",
    "root = '/Users/billystrickland/Library/CloudStorage/GoogleDrive-wms269@nyu.edu/.shortcut-targets-by-id/1p4A2foj_vBr4k6wrGEIpURdVkG-qAFgb/nyu-quantum-engineering-lab/labber/data-backups/qubitfridge/Data/'"
   ]
  },
  {
   "cell_type": "code",
   "execution_count": 4,
   "metadata": {},
   "outputs": [],
   "source": [
    "def plot_trace(freq, data, trace=''):\n",
    "    \"\"\"\n",
    "    Plot a trace of the frequency response, converted to dB scale.\n",
    "\n",
    "    Parameters:\n",
    "    freq (array-like): Frequency data in Hz.\n",
    "    data (array-like): Data corresponding to the frequency response.\n",
    "    trace (str, optional): Label for the trace being plotted (default is an empty string).\n",
    "    \"\"\"\n",
    "    # Convert the data to dB scale and normalize by subtracting the final value\n",
    "    db = rf.to_db(abs(data)) - rf.to_db(abs(data[-1]))\n",
    "\n",
    "    # Convert frequency to GHz and then shift it by the minimum dB point for better visualization\n",
    "    freq = np.array(freq) * 1e-9  # Convert frequency to GHz\n",
    "\n",
    "    # Plot the data, shifting frequency to center around the minimum dB value\n",
    "    plt.plot((freq - freq[np.argmin(db)]) * 1e3, db, label=trace)  # Convert frequency to MHz\n",
    "\n",
    "    # Label the axes\n",
    "    plt.xlabel('$\\Delta$ Freq (MHz)')\n",
    "    plt.ylabel('$S_{21}$ (dB)')\n",
    "\n",
    "    # Optionally add the legend if a trace label is provided\n",
    "    if trace:\n",
    "        plt.legend()\n"
   ]
  },
  {
   "cell_type": "code",
   "execution_count": 5,
   "metadata": {},
   "outputs": [
    {
     "name": "stderr",
     "output_type": "stream",
     "text": [
      "The PostScript backend does not support transparency; partially transparent artists will be rendered opaque.\n",
      "The PostScript backend does not support transparency; partially transparent artists will be rendered opaque.\n"
     ]
    },
    {
     "data": {
      "image/png": "[encoded data removed]",
      "text/plain": [
       "<Figure size 432x288 with 1 Axes>"
      ]
     },
     "metadata": {
      "needs_background": "light"
     },
     "output_type": "display_data"
    }
   ],
   "source": [
    "# File paths for the data files\n",
    "file1 = '2024/01/Data_0108/Candlequbits-WMS-001-053.hdf5'\n",
    "file2 = '2024/01/Data_0129/candlequbits-CD2-LJBJLWMS-011.hdf5'\n",
    "file3 = '2024/02/Data_0204/candlequbits-CD3-WMSLJB-011.hdf5'\n",
    "file4 = '2024/02/Data_0208/candlequbits-CD4-WMSLJB-004.hdf5'\n",
    "\n",
    "# List of file paths\n",
    "FILES = [root + file1, root + file2, root + file3, root + file4]\n",
    "\n",
    "# Trace labels corresponding to each file\n",
    "traces = ['CD' + str(i + 1) for i in range(4)]\n",
    "\n",
    "# Channel names for P and S21 data\n",
    "P_CH, S21_CH = ['Repeat', 'VNA - S21']\n",
    "\n",
    "# Loop through each file and plot the corresponding trace\n",
    "for i, FILE in enumerate(FILES):\n",
    "    with LabberData(FILE) as f:\n",
    "        # Get frequency and S21 data\n",
    "        freq, data = f.get_data(S21_CH, get_x=True)\n",
    "        \n",
    "        # Plot data with corresponding trace label\n",
    "        if i == 0:\n",
    "            plot_trace(freq[0], data[0], trace=traces[i])  # First file gets specific treatment\n",
    "        else:\n",
    "            plot_trace(freq, data, trace=traces[i])  # Other files follow the regular process\n",
    "        \n",
    "        plt.legend()  # Add the legend to the plot\n",
    "\n",
    "# Adjust layout to avoid overlap\n",
    "plt.tight_layout()\n",
    "\n",
    "# Save the plot as an EPS file\n",
    "plt.savefig('candles.eps', format='eps')\n"
   ]
  },
  {
   "cell_type": "code",
   "execution_count": 39,
   "metadata": {},
   "outputs": [
    {
     "name": "stdout",
     "output_type": "stream",
     "text": [
      "CD1 = Input -20dB on MXC plate, 2 isolators, TWPA -10dB on MXC plate\n",
      "CD2 = Input -40dB on MXC plate, 2 isolators, TWPA -10dB on MXC plate, -20dB on output line\n",
      "CD3 = Input -40dB on MXC plate, 2 isolators, TWPA -10dB on MXC plate, circulator with Minicircuits terminator, extra cable\n",
      "CD4 = Input -40dB (Qµ) on MXC plate, 2 isolators, TWPA -20dB (Qµ) on MXC plate, circulator with Qµ terminator, no extra cable\n"
     ]
    }
   ],
   "source": [
    "print('CD1 = Input -20dB on MXC plate, 2 isolators, TWPA -10dB on MXC plate')\n",
    "print('CD2 = Input -40dB on MXC plate, 2 isolators, TWPA -10dB on MXC plate, -20dB on output line')\n",
    "print('CD3 = Input -40dB on MXC plate, 2 isolators, TWPA -10dB on MXC plate, circulator with Minicircuits terminator, extra cable')\n",
    "print('CD4 = Input -40dB (Qµ) on MXC plate, 2 isolators, TWPA -20dB (Qµ) on MXC plate, circulator with Qµ terminator, no extra cable')\n"
   ]
  }
 ],
 "metadata": {
  "kernelspec": {
   "display_name": "Python 3",
   "language": "python",
   "name": "python3"
  },
  "language_info": {
   "codemirror_mode": {
    "name": "ipython",
    "version": 3
   },
   "file_extension": ".py",
   "mimetype": "text/x-python",
   "name": "python",
   "nbconvert_exporter": "python",
   "pygments_lexer": "ipython3",
   "version": "3.8.5"
  }
 },
 "nbformat": 4,
 "nbformat_minor": 4
}
